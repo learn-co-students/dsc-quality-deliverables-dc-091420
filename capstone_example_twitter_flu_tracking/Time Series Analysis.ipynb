{
 "cells": [
  {
   "cell_type": "code",
   "execution_count": 84,
   "metadata": {},
   "outputs": [],
   "source": [
    "#http://cse.unl.edu/~byrav/INFOCOM2011/workshops/papers/p713-achrekar.pdf\n",
    "import pandas as pd\n",
    "from pandas import Series\n",
    "import matplotlib.pyplot as plt\n",
    "%matplotlib inline\n",
    "from pandas.tools.plotting import lag_plot, autocorrelation_plot\n",
    "from pandas import concat\n",
    "from statsmodels.graphics.tsaplots import plot_acf\n",
    "from sklearn.metrics import mean_squared_error\n",
    "from sklearn.model_selection import train_test_split\n",
    "from statsmodels.tsa.ar_model import AR\n",
    "import numpy as np"
   ]
  },
  {
   "cell_type": "markdown",
   "metadata": {},
   "source": [
    "Autoregression model: Input variables are taken as observations at previous time steps (AKA lag variables). Uses data from same input variable at previous time steps."
   ]
  },
  {
   "cell_type": "markdown",
   "metadata": {},
   "source": [
    "# Cleaning Data\n",
    "\n",
    "## CDC Data"
   ]
  },
  {
   "cell_type": "code",
   "execution_count": 35,
   "metadata": {},
   "outputs": [],
   "source": [
    "def clean_df(df):\n",
    "    df.reset_index(inplace=True) # Resets the index, makes factor a column\n",
    "    df.drop('PERCENTAGE OF VISITS FOR INFLUENZA-LIKE-ILLNESS REPORTED BY SENTINEL PROVIDERS',axis=1,inplace=True) # drop factor from axis 1 and make changes permanent by inplace=True\n",
    "    df.columns = df.iloc[0]\n",
    "    df = df.iloc[1:]\n",
    "    df[\"Date\"] = pd.to_datetime(df.WEEK.astype(str)+\n",
    "                              df.YEAR.astype(str).add('-1') ,format='%W%Y-%w')\n",
    "    df.set_index(df['Date'], inplace=True)\n",
    "    df['ILITOTAL'] = df['ILITOTAL'].astype('int64')\n",
    "    return df"
   ]
  },
  {
   "cell_type": "code",
   "execution_count": 36,
   "metadata": {},
   "outputs": [
    {
     "name": "stderr",
     "output_type": "stream",
     "text": [
      "/anaconda3/lib/python3.6/site-packages/ipykernel_launcher.py:7: SettingWithCopyWarning: \n",
      "A value is trying to be set on a copy of a slice from a DataFrame.\n",
      "Try using .loc[row_indexer,col_indexer] = value instead\n",
      "\n",
      "See the caveats in the documentation: http://pandas.pydata.org/pandas-docs/stable/indexing.html#indexing-view-versus-copy\n",
      "  import sys\n",
      "/anaconda3/lib/python3.6/site-packages/ipykernel_launcher.py:9: SettingWithCopyWarning: \n",
      "A value is trying to be set on a copy of a slice from a DataFrame.\n",
      "Try using .loc[row_indexer,col_indexer] = value instead\n",
      "\n",
      "See the caveats in the documentation: http://pandas.pydata.org/pandas-docs/stable/indexing.html#indexing-view-versus-copy\n",
      "  if __name__ == '__main__':\n"
     ]
    }
   ],
   "source": [
    "cdc_16 = pd.read_csv('FluViewPhase2Data/16_17.csv')\n",
    "cdc_17 = pd.read_csv('FluViewPhase2Data/17_18.csv')\n",
    "\n",
    "cdc_16 = clean_df(cdc_16)\n",
    "cdc_16 = cdc_16.drop(['AGE 0-4', 'AGE 25-49', 'AGE 25-64', 'AGE 5-24',\n",
    "               'AGE 50-64', 'AGE 65', 'NUM. OF PROVIDERS', 'Date', 'YEAR','WEEK',  \n",
    "              '%UNWEIGHTED ILI', 'TOTAL PATIENTS'], axis=1)\n",
    "cdc_17 = clean_df(cdc_17)\n",
    "cdc_17 = cdc_17.drop(['REGION TYPE', 'REGION', 'AGE 0-4', 'AGE 25-49', 'AGE 25-64', 'AGE 5-24',\n",
    "               'AGE 50-64', 'AGE 65', 'NUM. OF PROVIDERS', 'Date', 'YEAR','WEEK', '% WEIGHTED ILI', \n",
    "              '%UNWEIGHTED ILI'], axis=1)"
   ]
  },
  {
   "cell_type": "code",
   "execution_count": 37,
   "metadata": {},
   "outputs": [],
   "source": [
    "cdc_df = pd.concat([cdc_16, cdc_17])"
   ]
  },
  {
   "cell_type": "markdown",
   "metadata": {},
   "source": [
    "## Twitter Data"
   ]
  },
  {
   "cell_type": "code",
   "execution_count": null,
   "metadata": {},
   "outputs": [],
   "source": []
  },
  {
   "cell_type": "markdown",
   "metadata": {},
   "source": [
    "## Google Trends Data"
   ]
  },
  {
   "cell_type": "code",
   "execution_count": 49,
   "metadata": {},
   "outputs": [],
   "source": [
    "google_df = pd.read_csv('google_trends/multiTimeline.csv')\n",
    "google_df.reset_index(inplace=True) # Resets the index, makes factor a column\n",
    "google_df.columns = google_df.iloc[0]\n",
    "google_df = google_df.iloc[1:]\n",
    "google_df.rename(columns={'Week': 'Date'}, inplace=True)\n",
    "google_df.rename(columns={'flu: (United States)': 'Count'}, inplace=True)\n",
    "google_df.set_index(google_df['Date'], inplace=True)\n",
    "google_df.drop(['Date'], axis=1, inplace=True)\n",
    "google_df['Count'] = google_df['Count'].astype('int64')"
   ]
  },
  {
   "cell_type": "markdown",
   "metadata": {},
   "source": [
    "# Data Visualizations\n",
    "\n",
    "## CDC Data"
   ]
  },
  {
   "cell_type": "code",
   "execution_count": 33,
   "metadata": {},
   "outputs": [
    {
     "data": {
      "image/png": "[encoded data removed]",
      "text/plain": [
       "<Figure size 432x288 with 1 Axes>"
      ]
     },
     "metadata": {},
     "output_type": "display_data"
    }
   ],
   "source": [
    "cdc_df.plot()\n",
    "plt.legend().set_visible(False)\n",
    "plt.show()"
   ]
  },
  {
   "cell_type": "markdown",
   "metadata": {},
   "source": [
    "## Twitter Data"
   ]
  },
  {
   "cell_type": "code",
   "execution_count": null,
   "metadata": {},
   "outputs": [],
   "source": []
  },
  {
   "cell_type": "markdown",
   "metadata": {},
   "source": [
    "## Google Trends Data"
   ]
  },
  {
   "cell_type": "code",
   "execution_count": 45,
   "metadata": {},
   "outputs": [
    {
     "data": {
      "image/png": "[encoded data removed]",
      "text/plain": [
       "<Figure size 432x288 with 1 Axes>"
      ]
     },
     "metadata": {},
     "output_type": "display_data"
    }
   ],
   "source": [
    "google_df.plot()\n",
    "plt.legend().set_visible(False)\n",
    "plt.show()"
   ]
  },
  {
   "cell_type": "markdown",
   "metadata": {},
   "source": [
    "# Check for Autocorrelation"
   ]
  },
  {
   "cell_type": "markdown",
   "metadata": {},
   "source": [
    "## CDC data"
   ]
  },
  {
   "cell_type": "code",
   "execution_count": 52,
   "metadata": {},
   "outputs": [
    {
     "name": "stderr",
     "output_type": "stream",
     "text": [
      "/anaconda3/lib/python3.6/site-packages/ipykernel_launcher.py:3: FutureWarning: 'pandas.tools.plotting.lag_plot' is deprecated, import 'pandas.plotting.lag_plot' instead.\n",
      "  This is separate from the ipykernel package so we can avoid doing imports until\n"
     ]
    },
    {
     "data": {
      "text/plain": [
       "<matplotlib.axes._subplots.AxesSubplot at 0x117aace10>"
      ]
     },
     "execution_count": 52,
     "metadata": {},
     "output_type": "execute_result"
    },
    {
     "data": {
      "image/png": "[encoded data removed]",
      "text/plain": [
       "<Figure size 432x288 with 1 Axes>"
      ]
     },
     "metadata": {},
     "output_type": "display_data"
    }
   ],
   "source": [
    "#plot the observation at the previous time step \n",
    "#(t-1) with the observation at the next time step (t+1) as a scatter plot.\n",
    "#plots the visits(t) on the x-axis against \n",
    "#the visits on the previous day (t-1) on the y-axis.\n",
    "lag_plot(cdc_df)\n",
    "#clear correlation"
   ]
  },
  {
   "cell_type": "markdown",
   "metadata": {},
   "source": [
    "### Pearson Correlation"
   ]
  },
  {
   "cell_type": "code",
   "execution_count": 90,
   "metadata": {},
   "outputs": [
    {
     "name": "stdout",
     "output_type": "stream",
     "text": [
      "          t-1       t+1\n",
      "t-1  1.000000  0.892759\n",
      "t+1  0.892759  1.000000\n"
     ]
    }
   ],
   "source": [
    "# creates a lagged version of the dataset and calculates a \n",
    "#correlation matrix of each column with other columns, including itself.\n",
    "values = cdc_df['ILITOTAL']\n",
    "dataframe = concat([values.shift(2), values], axis=1)\n",
    "dataframe.columns = ['t-1', 't+1']\n",
    "result = dataframe.corr()\n",
    "print(result)\n",
    "#strong positive correlation (0.89) between the observation and the lag=2 value."
   ]
  },
  {
   "cell_type": "markdown",
   "metadata": {},
   "source": [
    "### Autocorrelation Plot"
   ]
  },
  {
   "cell_type": "code",
   "execution_count": null,
   "metadata": {},
   "outputs": [],
   "source": [
    "#plot provides the lag number along the x-axis and the correlation coefficient value between -1 and 1 on the \n",
    "#y-axis. The plot also includes solid and dashed lines that indicate the 95% and 99% confidence interval for the \n",
    "#correlation values. Correlation values above these lines are more significant than those below the line, providing \n",
    "#a threshold or cutoff for selecting more relevant lag values."
   ]
  },
  {
   "cell_type": "code",
   "execution_count": 62,
   "metadata": {},
   "outputs": [
    {
     "data": {
      "image/png": "[encoded data removed]",
      "text/plain": [
       "<Figure size 432x288 with 1 Axes>"
      ]
     },
     "metadata": {},
     "output_type": "display_data"
    }
   ],
   "source": [
    "plot_acf(cdc_df)\n",
    "plt.show()"
   ]
  },
  {
   "cell_type": "markdown",
   "metadata": {},
   "source": [
    "# Autoregression\n",
    "\n",
    "## Persistence Model: Naive Forecast\n",
    "Predict the last 4 weeks of visits in the dataset given all prior observations. Persistence model: simplest model that we could use to make predictions by persisting the last observation. Provides a baseline of performance for the problem that we can use for comparison with an autoregression model. We can develop a test harness for the problem by splitting the observations into training and test sets, with only the last 7 observations in the dataset assigned to the test set as “unseen” data that we wish to predict.\n",
    "\n",
    "The predictions are made using a walk-forward validation model so that we can persist the most recent observations for the next day. This means that we are not making a 4-week forecast, but 4 1-week forecasts.\n",
    "\n",
    "Source: https://machinelearningmastery.com/persistence-time-series-forecasting-with-python/ \n",
    "\n",
    "Use two weeks ago value for this week"
   ]
  },
  {
   "cell_type": "code",
   "execution_count": 93,
   "metadata": {},
   "outputs": [
    {
     "name": "stdout",
     "output_type": "stream",
     "text": [
      "5827.0\n",
      "6520.0\n",
      "7227.0\n",
      "7889.0\n",
      "Test MSE: 1517.920\n"
     ]
    },
    {
     "data": {
      "image/png": "[encoded data removed]",
      "text/plain": [
       "<Figure size 432x288 with 1 Axes>"
      ]
     },
     "metadata": {},
     "output_type": "display_data"
    }
   ],
   "source": [
    "# create lagged dataset\n",
    "values = cdc_df['ILITOTAL']\n",
    "dataframe = concat([values.shift(2), values], axis=1)\n",
    "dataframe.columns = ['t', 't+2']\n",
    "# split into train and test sets\n",
    "X = dataframe.values\n",
    "train, test = X[1:len(X)-4], X[len(X)-4:]\n",
    "train_X, train_y = train[:,0], train[:,1]\n",
    "test_X, test_y = test[:,0], test[:,1]\n",
    "\n",
    "# persistence model\n",
    "def model_persistence(x):\n",
    "    return x\n",
    "\n",
    "# walk-forward validation\n",
    "predictions = list()\n",
    "for x in test_X:\n",
    "    yhat = model_persistence(x)\n",
    "    print(yhat)\n",
    "    predictions.append(yhat)\n",
    "test_score = np.sqrt(mean_squared_error(test_y, predictions))\n",
    "print('Test RMSE: %.3f' % test_score)\n",
    "# plot predictions vs expected\n",
    "plt.plot(test_y)\n",
    "plt.plot(predictions, color='red')\n",
    "plt.show()"
   ]
  },
  {
   "cell_type": "markdown",
   "metadata": {},
   "source": [
    "## Autoregression Model\n",
    "An autoregression model is a linear regression model that uses lagged variables as input variables."
   ]
  },
  {
   "cell_type": "code",
   "execution_count": 100,
   "metadata": {},
   "outputs": [
    {
     "name": "stdout",
     "output_type": "stream",
     "text": [
      "[10997 11926 12648 13790 14258 15160 14208 16605 16976 18463 21570 24900\n",
      " 24178 24904 28759 31221 36510 42890 41098 40124 30183 28051 25484 27371\n",
      " 24375 19684 15552 13012 11955 10763 10188  9809  8564  7757  7558  6636\n",
      "  6264  5596  5326  4961  4764  4880  4899  4915  5230  6682  7133  7073\n",
      "  8317  8566  9079 12873 13298 14364 15860 17095 19086 21932 19863 23796\n",
      " 24996 31539 42822 45332 47345 56873 63181 77591 86207 88095 76482 53257\n",
      " 36258 29253 26045 23899 20780 19162 16733 14911 14613 13316 11656 11093\n",
      " 10606  9621  8699  7571  7371  6939  6258  6507  5788  5489  5593  5827\n",
      "  6520]\n",
      "[7227 7889 9243 9037]\n",
      "Lag: 12\n",
      "Coefficients: [ 1.38216696e+03  1.72387205e+00 -6.77892512e-01 -3.31974059e-01\n",
      "  1.21484770e-01  3.31049797e-01 -1.47586737e-01 -1.93869590e-01\n",
      "  2.71876903e-01 -3.86131161e-01  3.30801711e-01 -6.64921063e-03\n",
      " -1.02676432e-01]\n",
      "predicted=7723.554837, expected=7227.000000\n",
      "predicted=9240.027933, expected=7889.000000\n",
      "predicted=11359.567155, expected=9243.000000\n",
      "predicted=13296.605050, expected=9037.000000\n",
      "Test RMSE: 2484.750\n"
     ]
    },
    {
     "data": {
      "image/png": "[encoded data removed]",
      "text/plain": [
       "<Figure size 432x288 with 1 Axes>"
      ]
     },
     "metadata": {},
     "output_type": "display_data"
    }
   ],
   "source": [
    "# split dataset\n",
    "cdc_series = pd.Series(cdc_df['ILITOTAL'])\n",
    "X = cdc_series.values\n",
    "train, test = X[1:len(X)-4], X[len(X)-4:]\n",
    "# train autoregression\n",
    "model = AR(train)\n",
    "model_fit = model.fit()\n",
    "print('Lag: %s' % model_fit.k_ar)\n",
    "print('Coefficients: %s' % model_fit.params)\n",
    "# make predictions\n",
    "predictions = model_fit.predict(start=len(train), end=len(train)+len(test)-1, dynamic=False)\n",
    "for i in range(len(predictions)):\n",
    "    print('predicted=%f, expected=%f' % (predictions[i], test[i]))\n",
    "error = np.sqrt(mean_squared_error(test, predictions))\n",
    "print('Test RMSE: %.3f' % error)\n",
    "# plot results\n",
    "plt.plot(test)\n",
    "plt.plot(predictions, color='red')\n",
    "plt.show()"
   ]
  },
  {
   "cell_type": "markdown",
   "metadata": {},
   "source": [
    "# ARIMA"
   ]
  },
  {
   "cell_type": "code",
   "execution_count": null,
   "metadata": {},
   "outputs": [],
   "source": []
  }
 ],
 "metadata": {
  "kernelspec": {
   "display_name": "Python 3",
   "language": "python",
   "name": "python3"
  },
  "language_info": {
   "codemirror_mode": {
    "name": "ipython",
    "version": 3
   },
   "file_extension": ".py",
   "mimetype": "text/x-python",
   "name": "python",
   "nbconvert_exporter": "python",
   "pygments_lexer": "ipython3",
   "version": "3.6.5"
  }
 },
 "nbformat": 4,
 "nbformat_minor": 2
}
