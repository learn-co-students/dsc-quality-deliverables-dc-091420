{
 "cells": [
  {
   "cell_type": "markdown",
   "metadata": {},
   "source": [
    "# Top Headlines Category Classification & Recommendation Engine"
   ]
  },
  {
   "cell_type": "markdown",
   "metadata": {},
   "source": [
    "**Overview:** Top headlines, associated descriptions, and category labels will be pulled from a news API. Different machine learning classification models will be used to classify the headlines and integrated with the Twitter API to select geolocated tweets reacting to those headlines to assess sentiment. A recommendation engine will be built to recommend different headlines to Twitter users based on past sentiment."
   ]
  },
  {
   "cell_type": "markdown",
   "metadata": {},
   "source": [
    "**Data Sources:** \n",
    "* Twitter API\n",
    "* News API: https://newsapi.org/"
   ]
  },
  {
   "cell_type": "markdown",
   "metadata": {},
   "source": [
    "**Web App**\n",
    "* Dask, with a Flask backend"
   ]
  },
  {
   "cell_type": "markdown",
   "metadata": {},
   "source": [
    "**Regression** \n",
    "Sentiment analysis \n",
    "\n",
    "**Classification**\n",
    "\n",
    "Headlines/content will be categorized based on topic (politics, health, etc), using the following classifiers:\n",
    "* Naive Bayes\n",
    "* Logistic regression\n",
    "* Support vector machines\n",
    "* Random forest, with boosting "
   ]
  },
  {
   "cell_type": "markdown",
   "metadata": {},
   "source": [
    "**Anticipated Challenges**\n",
    "* Integrating live tweets with concurrent top headlines\n",
    "* Data collection "
   ]
  },
  {
   "cell_type": "markdown",
   "metadata": {},
   "source": [
    "**Next Steps**\n",
    "* Integrating more social media sources and Google trends "
   ]
  }
 ],
 "metadata": {
  "kernelspec": {
   "display_name": "Python 3",
   "language": "python",
   "name": "python3"
  },
  "language_info": {
   "codemirror_mode": {
    "name": "ipython",
    "version": 3
   },
   "file_extension": ".py",
   "mimetype": "text/x-python",
   "name": "python",
   "nbconvert_exporter": "python",
   "pygments_lexer": "ipython3",
   "version": "3.6.5"
  }
 },
 "nbformat": 4,
 "nbformat_minor": 2
}
