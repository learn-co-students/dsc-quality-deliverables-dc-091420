{
 "cells": [
  {
   "cell_type": "markdown",
   "metadata": {},
   "source": [
    "# Predicting Tweet Flu Status and Regional Real-Time Flu Outbreak Detection"
   ]
  },
  {
   "cell_type": "markdown",
   "metadata": {},
   "source": [
    "**Overview**\n",
    "\n",
    "This project seeks to classify whether influenza-related tweets can be appropriately classified (informative vs. diagnostic). Live tweets will be stored in a PostgresSQL database, filtered by relevant keywords ('flu', 'influenza', 'sick', 'cough', 'fever', etc). Different machine learning classification models (Naive Bayes, Logistic Regression, SVM, Random Forest) will be used to categorize real-time tweets. The best model will then be used to appropriately categorize all tweets in the database and geographic/time trends of localized outbreaks will be examined. This will be useful in predicting outbreaks as they're occurring and may allow for quicker interventions. "
   ]
  },
  {
   "cell_type": "markdown",
   "metadata": {},
   "source": [
    "**Data Sources**\n",
    "* Twitter Real-Time Tweets, filtered by 'flu' or 'influenza'\n",
    "* Annotated flu dataset from prior research paper \n",
    "* Mapbox API \n",
    "* Google Real-Time Trends: https://trends.google.com/trends/?geo=US \n",
    "* CDC Influenza-Like Illness Real-Time Tracker: https://gis.cdc.gov/grasp/fluview/fluportaldashboard.html \n",
    "* AthenaHealth Near Real-Time Visit Tracker: https://www.athenahealth.com/insight/flu-dashboard-2017-2018"
   ]
  },
  {
   "cell_type": "markdown",
   "metadata": {},
   "source": [
    "**Web Component**\n",
    "* Front-end: Dash\n",
    "* Back-end: Flask"
   ]
  },
  {
   "cell_type": "markdown",
   "metadata": {},
   "source": [
    "**Regression**\n",
    "\n",
    "Linear regression will be used for geographic trends and predicting epidemic stage of outbreak (numerical value).\n",
    "\n",
    "**Classification**\n",
    "\n",
    "Classification will be used to classify tweets into:\n",
    "* Informative/Unrelated (ex: flu awareness or other)\n",
    "* Diagnostic (ex: actually describing flu symptoms)\n",
    "\n",
    "The following classifiers will be used:\n",
    "* Naive Bayes\n",
    "* Logistic regression\n",
    "* Support vector machines\n",
    "* Random forest, with boosting \n"
   ]
  },
  {
   "cell_type": "markdown",
   "metadata": {},
   "source": [
    "**Anticipated Challenges**\n",
    "* Data collection and cleaning (especially with annotation) \n",
    "* Appropriately integrating all the data sources "
   ]
  },
  {
   "cell_type": "markdown",
   "metadata": {},
   "source": [
    "**Next Steps**\n",
    "* Integrating all sources (Google real-time trends, Athenahealth visits, etc) "
   ]
  },
  {
   "cell_type": "markdown",
   "metadata": {},
   "source": [
    "**Sources**\n",
    "\n",
    "https://www.ncbi.nlm.nih.gov/pmc/articles/PMC5793414/#CR57 "
   ]
  }
 ],
 "metadata": {
  "kernelspec": {
   "display_name": "Python 3",
   "language": "python",
   "name": "python3"
  },
  "language_info": {
   "codemirror_mode": {
    "name": "ipython",
    "version": 3
   },
   "file_extension": ".py",
   "mimetype": "text/x-python",
   "name": "python",
   "nbconvert_exporter": "python",
   "pygments_lexer": "ipython3",
   "version": "3.6.5"
  }
 },
 "nbformat": 4,
 "nbformat_minor": 2
}
