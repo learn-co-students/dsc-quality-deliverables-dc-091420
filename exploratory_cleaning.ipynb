{
 "cells": [
  {
   "cell_type": "markdown",
   "metadata": {},
   "source": [
    "# Exploratory notebook for data cleaning\n",
    "\n",
    "Finding data cleaning steps needed for analysis\n",
    "\n",
    "Once steps are found, code is put into functions and moved to subject_cleaning notebook in `notebooks` dir"
   ]
  },
  {
   "cell_type": "code",
   "execution_count": null,
   "metadata": {},
   "outputs": [],
   "source": [
    "#merge_example test\n",
    "\n",
    "# data processing\n",
    "import pandas as pd\n",
    "\n",
    "#data viz\n",
    "import matplotlib.pyplot as plt\n",
    "\n",
    "bigmart = pd.read_csv('data/big_mart.csv')\n",
    "bigmart.head()"
   ]
  },
  {
   "cell_type": "markdown",
   "metadata": {},
   "source": [
    "Replacing inconsitent values in `Item_Fat_Content`:\n",
    "\n",
    "\n",
    "- to 'Low Fat`:\n",
    "   - 'LF'\n",
    "   - 'low fat'\n",
    "   \n",
    "   \n",
    "- to 'Regular':\n",
    "   - 'reg'"
   ]
  },
  {
   "cell_type": "code",
   "execution_count": 3,
   "metadata": {},
   "outputs": [],
   "source": [
    "bigmart.Item_Fat_Content = bigmart.Item_Fat_Content.replace('low fat', \"Low Fat\")\n",
    "\n",
    "bigmart.Item_Fat_Content = ['Low Fat' if val == 'LF' else val for val in bigmart.Item_Fat_Content] \n",
    "\n",
    "bigmart.Item_Fat_Content = bigmart.Item_Fat_Content.apply(lambda x: \"Regular\" if x=='reg' else x)\n",
    "\n",
    "fat = bigmart.Item_Fat_Content\n",
    "\n",
    "bigmart.Item_Fat_Content.where(fat != 'low fat', 'Low Fat', inplace=True)"
   ]
  },
  {
   "cell_type": "code",
   "execution_count": null,
   "metadata": {},
   "outputs": [],
   "source": []
  }
 ],
 "metadata": {
  "kernelspec": {
   "display_name": "learn-env",
   "language": "python",
   "name": "learn-env"
  },
  "language_info": {
   "codemirror_mode": {
    "name": "ipython",
    "version": 3
   },
   "file_extension": ".py",
   "mimetype": "text/x-python",
   "name": "python",
   "nbconvert_exporter": "python",
   "pygments_lexer": "ipython3",
   "version": "3.7.4"
  }
 },
 "nbformat": 4,
 "nbformat_minor": 4
}
